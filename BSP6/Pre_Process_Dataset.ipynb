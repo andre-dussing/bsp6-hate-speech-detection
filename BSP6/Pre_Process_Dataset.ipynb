{
  "nbformat": 4,
  "nbformat_minor": 0,
  "metadata": {
    "colab": {
      "provenance": []
    },
    "kernelspec": {
      "name": "python3",
      "display_name": "Python 3"
    },
    "language_info": {
      "name": "python"
    }
  },
  "cells": [
    {
      "cell_type": "code",
      "execution_count": 1,
      "metadata": {
        "colab": {
          "base_uri": "https://localhost:8080/"
        },
        "id": "h0ELaZVWYMXj",
        "outputId": "546e6ea4-cd1b-4d50-bc10-47d1228c2944"
      },
      "outputs": [
        {
          "output_type": "stream",
          "name": "stdout",
          "text": [
            "Mounted at /content/drive\n"
          ]
        }
      ],
      "source": [
        "# Pandas Dataframe Library\n",
        "import json\n",
        "import pandas as pd\n",
        "import os\n",
        "from IPython.display import display\n",
        "import numpy as np \n",
        "from google.colab import drive\n",
        "\n",
        "\n",
        "# Graphs and Charts\n",
        "import matplotlib.pyplot as plt \n",
        "import matplotlib.patches as mpatches\n",
        "from wordcloud import WordCloud, STOPWORDS, ImageColorGenerator\n",
        "import seaborn as sns\n",
        "\n",
        "# Mount Google Drive\n",
        "drive.mount('/content/drive')\n"
      ]
    },
    {
      "cell_type": "code",
      "source": [
        "gold='/content/drive/MyDrive/BSP6/init_dataset_gold'  #intial gold dataset \n",
        "silver='/content/drive/MyDrive/BSP6/init_dataset_silver' #intial silver dataset\n",
        "gold_silver='/content/drive/MyDrive/BSP6/init_dataset_gold_silver' #gold and silver merged for train and val | gold for test\n",
        "gold_silver_train_gold_val='/content/drive/MyDrive/BSP6/init_dataset_gold_silver_train_gold_val' #gold and silver merged for train |  gold for val and test\n",
        "gold_pre_processed = '/content/drive/MyDrive/BSP6/init_dataset_gold_preprocessed' # gold dataset without links\n",
        "gold_oversampeld ='/content/drive/MyDrive/BSP6/init_dataset_gold_silver_balance'\n",
        "\n",
        "\n",
        "os.chdir(gold_oversampeld) \n",
        "dirs = os.listdir(gold_oversampeld)\n",
        "for file in dirs:\n",
        "   print(file)\n",
        "\n",
        "train_data = pd.read_json('train.json', lines=True)\n",
        "val_data = pd.read_json('val.json', lines=True)\n",
        "test_data = pd.read_json('test.json', lines=True)"
      ],
      "metadata": {
        "colab": {
          "base_uri": "https://localhost:8080/"
        },
        "id": "HhA90HUgYSEx",
        "outputId": "152413cf-9ddb-42ff-a097-4844f1a59611"
      },
      "execution_count": 2,
      "outputs": [
        {
          "output_type": "stream",
          "name": "stdout",
          "text": [
            "test.json\n",
            "Report\n",
            "results\n",
            "train.json\n",
            "val.json\n"
          ]
        }
      ]
    },
    {
      "cell_type": "code",
      "source": [
        "def remove_url(df):\n",
        "  df['context'] = df['context'].replace(to_replace=r\"http\\S+|www\\S+|https\\S+\",value='',regex=True)\n",
        "  df['target'] = df['target'].replace(to_replace=r\"http\\S+|www\\S+|https\\S+\",value='',regex=True)\n",
        "  return df\n",
        "\n",
        "train_data=remove_url(train_data)\n",
        "val_data=remove_url(val_data)\n",
        "test_data=remove_url(test_data)"
      ],
      "metadata": {
        "id": "XSQaVtjVYRNy"
      },
      "execution_count": 3,
      "outputs": []
    },
    {
      "cell_type": "code",
      "source": [
        "train_data.to_json(r'/content/drive/MyDrive/BSP6/init_dataset_gold_preprocessed_oversample/train.json', orient='records', lines=True)\n",
        "val_data.to_json(r'/content/drive/MyDrive/BSP6/init_dataset_gold_preprocessed_oversample/val.json', orient='records', lines=True)\n",
        "test_data.to_json(r'/content/drive/MyDrive/BSP6/init_dataset_gold_preprocessed_oversample/test.json', orient='records', lines=True)\n"
      ],
      "metadata": {
        "id": "hewKX5poamLy"
      },
      "execution_count": 4,
      "outputs": []
    }
  ]
}